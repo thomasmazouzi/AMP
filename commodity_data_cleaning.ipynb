{
 "cells": [
  {
   "cell_type": "markdown",
   "id": "c3929bd9",
   "metadata": {},
   "source": [
    "# Nettoyage et restructuration des données de matières premières\n",
    "\n",
    "Ce notebook montre comment nettoyer et restructurer un DataFrame contenant des données de matières premières avec plusieurs colonnes de dates et de prix."
   ]
  },
  {
   "cell_type": "markdown",
   "id": "76edeeb3",
   "metadata": {},
   "source": [
    "## Import Required Libraries\n",
    "Import pandas and other necessary libraries for data manipulation."
   ]
  },
  {
   "cell_type": "code",
   "execution_count": 36,
   "id": "c70b5f86",
   "metadata": {},
   "outputs": [],
   "source": [
    "import pandas as pd\n",
    "import numpy as np\n",
    "import matplotlib.pyplot as plt\n",
    "%matplotlib inline"
   ]
  },
  {
   "cell_type": "markdown",
   "id": "98be7901",
   "metadata": {},
   "source": [
    "## 1. Chargement des données"
   ]
  },
  {
   "cell_type": "code",
   "execution_count": 37,
   "id": "da4a60ca",
   "metadata": {},
   "outputs": [
    {
     "name": "stdout",
     "output_type": "stream",
     "text": [
      "Forme du DataFrame: (4019, 24)\n"
     ]
    },
    {
     "data": {
      "application/vnd.microsoft.datawrangler.viewer.v0+json": {
       "columns": [
        {
         "name": "index",
         "rawType": "int64",
         "type": "integer"
        },
        {
         "name": "DATEBrent",
         "rawType": "object",
         "type": "string"
        },
        {
         "name": "Brent",
         "rawType": "float64",
         "type": "float"
        },
        {
         "name": "DATECrudeOilWTI",
         "rawType": "object",
         "type": "string"
        },
        {
         "name": "CrudeOilWTI",
         "rawType": "float64",
         "type": "float"
        },
        {
         "name": "DATEGold",
         "rawType": "object",
         "type": "string"
        },
        {
         "name": "Gold",
         "rawType": "float64",
         "type": "float"
        },
        {
         "name": "DATEHenryHub",
         "rawType": "object",
         "type": "string"
        },
        {
         "name": "HenryHub",
         "rawType": "float64",
         "type": "float"
        },
        {
         "name": "DATEWheat",
         "rawType": "object",
         "type": "string"
        },
        {
         "name": "Wheat",
         "rawType": "float64",
         "type": "float"
        },
        {
         "name": "DATESoybeans",
         "rawType": "object",
         "type": "string"
        },
        {
         "name": "Soybeans",
         "rawType": "float64",
         "type": "float"
        },
        {
         "name": "DATEHeatingOil",
         "rawType": "object",
         "type": "string"
        },
        {
         "name": "HeatingOil",
         "rawType": "float64",
         "type": "float"
        },
        {
         "name": "DATELiveCattle",
         "rawType": "object",
         "type": "string"
        },
        {
         "name": "LiveCattle",
         "rawType": "float64",
         "type": "float"
        },
        {
         "name": "DATEFeederCattle",
         "rawType": "object",
         "type": "string"
        },
        {
         "name": "FeederCattle",
         "rawType": "float64",
         "type": "float"
        },
        {
         "name": "DATECoffee",
         "rawType": "object",
         "type": "string"
        },
        {
         "name": "Coffee",
         "rawType": "float64",
         "type": "float"
        },
        {
         "name": "DATECotton",
         "rawType": "object",
         "type": "string"
        },
        {
         "name": "Cotton",
         "rawType": "float64",
         "type": "float"
        },
        {
         "name": "DATESugar",
         "rawType": "object",
         "type": "string"
        },
        {
         "name": "Sugar",
         "rawType": "float64",
         "type": "float"
        }
       ],
       "conversionMethod": "pd.DataFrame",
       "ref": "d89de427-496d-49bf-bfa3-69d75f9dadbc",
       "rows": [
        [
         "0",
         "01/04/2010",
         "80.12",
         "01/04/2010",
         "81.51",
         "01/04/2010",
         "1118.3",
         "01/04/2010",
         "5.884",
         "01/04/2010",
         "0.1775",
         "01/01/2010",
         "260.8",
         "01/04/2010",
         "219.05",
         "01/04/2010",
         "85.375",
         "01/04/2010",
         "95.875",
         "01/04/2010",
         "141.85",
         "01/04/2010",
         "76.0",
         "01/04/2010",
         "27.62"
        ],
        [
         "1",
         "01/05/2010",
         "80.59",
         "01/05/2010",
         "81.77",
         "01/05/2010",
         "1118.7",
         "01/05/2010",
         "5.637",
         "01/05/2010",
         "0.16",
         "01/02/2010",
         "261.1",
         "01/05/2010",
         "219.41",
         "01/05/2010",
         "86.325",
         "01/05/2010",
         "96.55",
         "01/05/2010",
         "141.0",
         "01/05/2010",
         "73.12",
         "01/05/2010",
         "27.64"
        ],
        [
         "2",
         "01/06/2010",
         "81.89",
         "01/06/2010",
         "83.18",
         "01/06/2010",
         "1136.5",
         "01/06/2010",
         "6.009",
         "01/06/2010",
         "0.135",
         "01/04/2010",
         "270.6",
         "01/06/2010",
         "220.32",
         "01/06/2010",
         "85.95",
         "01/06/2010",
         "96.3",
         "01/06/2010",
         "141.6",
         "01/06/2010",
         "73.55",
         "01/06/2010",
         "28.41"
        ],
        [
         "3",
         "01/07/2010",
         "81.51",
         "01/07/2010",
         "82.66",
         "01/07/2010",
         "1133.7",
         "01/07/2010",
         "5.806",
         "01/07/2010",
         "0.1525",
         "01/05/2010",
         "263.6",
         "01/07/2010",
         "218.36",
         "01/07/2010",
         "85.925",
         "01/07/2010",
         "96.45",
         "01/07/2010",
         "141.9",
         "01/07/2010",
         "72.89",
         "01/07/2010",
         "28.0"
        ],
        [
         "4",
         "01/08/2010",
         "81.37",
         "01/08/2010",
         "82.75",
         "01/08/2010",
         "1138.9",
         "01/08/2010",
         "5.749",
         "01/08/2010",
         "0.155",
         "01/06/2010",
         "274.7",
         "01/08/2010",
         "220.03",
         "01/08/2010",
         "85.825",
         "01/08/2010",
         "96.35",
         "01/08/2010",
         "145.35",
         "01/08/2010",
         "72.44",
         "01/08/2010",
         "27.53"
        ]
       ],
       "shape": {
        "columns": 24,
        "rows": 5
       }
      },
      "text/html": [
       "<div>\n",
       "<style scoped>\n",
       "    .dataframe tbody tr th:only-of-type {\n",
       "        vertical-align: middle;\n",
       "    }\n",
       "\n",
       "    .dataframe tbody tr th {\n",
       "        vertical-align: top;\n",
       "    }\n",
       "\n",
       "    .dataframe thead th {\n",
       "        text-align: right;\n",
       "    }\n",
       "</style>\n",
       "<table border=\"1\" class=\"dataframe\">\n",
       "  <thead>\n",
       "    <tr style=\"text-align: right;\">\n",
       "      <th></th>\n",
       "      <th>DATEBrent</th>\n",
       "      <th>Brent</th>\n",
       "      <th>DATECrudeOilWTI</th>\n",
       "      <th>CrudeOilWTI</th>\n",
       "      <th>DATEGold</th>\n",
       "      <th>Gold</th>\n",
       "      <th>DATEHenryHub</th>\n",
       "      <th>HenryHub</th>\n",
       "      <th>DATEWheat</th>\n",
       "      <th>Wheat</th>\n",
       "      <th>...</th>\n",
       "      <th>DATELiveCattle</th>\n",
       "      <th>LiveCattle</th>\n",
       "      <th>DATEFeederCattle</th>\n",
       "      <th>FeederCattle</th>\n",
       "      <th>DATECoffee</th>\n",
       "      <th>Coffee</th>\n",
       "      <th>DATECotton</th>\n",
       "      <th>Cotton</th>\n",
       "      <th>DATESugar</th>\n",
       "      <th>Sugar</th>\n",
       "    </tr>\n",
       "  </thead>\n",
       "  <tbody>\n",
       "    <tr>\n",
       "      <th>0</th>\n",
       "      <td>01/04/2010</td>\n",
       "      <td>80.12</td>\n",
       "      <td>01/04/2010</td>\n",
       "      <td>81.51</td>\n",
       "      <td>01/04/2010</td>\n",
       "      <td>1118.3</td>\n",
       "      <td>01/04/2010</td>\n",
       "      <td>5.884</td>\n",
       "      <td>01/04/2010</td>\n",
       "      <td>0.1775</td>\n",
       "      <td>...</td>\n",
       "      <td>01/04/2010</td>\n",
       "      <td>85.375</td>\n",
       "      <td>01/04/2010</td>\n",
       "      <td>95.875</td>\n",
       "      <td>01/04/2010</td>\n",
       "      <td>141.85</td>\n",
       "      <td>01/04/2010</td>\n",
       "      <td>76.00</td>\n",
       "      <td>01/04/2010</td>\n",
       "      <td>27.62</td>\n",
       "    </tr>\n",
       "    <tr>\n",
       "      <th>1</th>\n",
       "      <td>01/05/2010</td>\n",
       "      <td>80.59</td>\n",
       "      <td>01/05/2010</td>\n",
       "      <td>81.77</td>\n",
       "      <td>01/05/2010</td>\n",
       "      <td>1118.7</td>\n",
       "      <td>01/05/2010</td>\n",
       "      <td>5.637</td>\n",
       "      <td>01/05/2010</td>\n",
       "      <td>0.1600</td>\n",
       "      <td>...</td>\n",
       "      <td>01/05/2010</td>\n",
       "      <td>86.325</td>\n",
       "      <td>01/05/2010</td>\n",
       "      <td>96.550</td>\n",
       "      <td>01/05/2010</td>\n",
       "      <td>141.00</td>\n",
       "      <td>01/05/2010</td>\n",
       "      <td>73.12</td>\n",
       "      <td>01/05/2010</td>\n",
       "      <td>27.64</td>\n",
       "    </tr>\n",
       "    <tr>\n",
       "      <th>2</th>\n",
       "      <td>01/06/2010</td>\n",
       "      <td>81.89</td>\n",
       "      <td>01/06/2010</td>\n",
       "      <td>83.18</td>\n",
       "      <td>01/06/2010</td>\n",
       "      <td>1136.5</td>\n",
       "      <td>01/06/2010</td>\n",
       "      <td>6.009</td>\n",
       "      <td>01/06/2010</td>\n",
       "      <td>0.1350</td>\n",
       "      <td>...</td>\n",
       "      <td>01/06/2010</td>\n",
       "      <td>85.950</td>\n",
       "      <td>01/06/2010</td>\n",
       "      <td>96.300</td>\n",
       "      <td>01/06/2010</td>\n",
       "      <td>141.60</td>\n",
       "      <td>01/06/2010</td>\n",
       "      <td>73.55</td>\n",
       "      <td>01/06/2010</td>\n",
       "      <td>28.41</td>\n",
       "    </tr>\n",
       "    <tr>\n",
       "      <th>3</th>\n",
       "      <td>01/07/2010</td>\n",
       "      <td>81.51</td>\n",
       "      <td>01/07/2010</td>\n",
       "      <td>82.66</td>\n",
       "      <td>01/07/2010</td>\n",
       "      <td>1133.7</td>\n",
       "      <td>01/07/2010</td>\n",
       "      <td>5.806</td>\n",
       "      <td>01/07/2010</td>\n",
       "      <td>0.1525</td>\n",
       "      <td>...</td>\n",
       "      <td>01/07/2010</td>\n",
       "      <td>85.925</td>\n",
       "      <td>01/07/2010</td>\n",
       "      <td>96.450</td>\n",
       "      <td>01/07/2010</td>\n",
       "      <td>141.90</td>\n",
       "      <td>01/07/2010</td>\n",
       "      <td>72.89</td>\n",
       "      <td>01/07/2010</td>\n",
       "      <td>28.00</td>\n",
       "    </tr>\n",
       "    <tr>\n",
       "      <th>4</th>\n",
       "      <td>01/08/2010</td>\n",
       "      <td>81.37</td>\n",
       "      <td>01/08/2010</td>\n",
       "      <td>82.75</td>\n",
       "      <td>01/08/2010</td>\n",
       "      <td>1138.9</td>\n",
       "      <td>01/08/2010</td>\n",
       "      <td>5.749</td>\n",
       "      <td>01/08/2010</td>\n",
       "      <td>0.1550</td>\n",
       "      <td>...</td>\n",
       "      <td>01/08/2010</td>\n",
       "      <td>85.825</td>\n",
       "      <td>01/08/2010</td>\n",
       "      <td>96.350</td>\n",
       "      <td>01/08/2010</td>\n",
       "      <td>145.35</td>\n",
       "      <td>01/08/2010</td>\n",
       "      <td>72.44</td>\n",
       "      <td>01/08/2010</td>\n",
       "      <td>27.53</td>\n",
       "    </tr>\n",
       "  </tbody>\n",
       "</table>\n",
       "<p>5 rows × 24 columns</p>\n",
       "</div>"
      ],
      "text/plain": [
       "    DATEBrent  Brent DATECrudeOilWTI  CrudeOilWTI    DATEGold    Gold  \\\n",
       "0  01/04/2010  80.12      01/04/2010        81.51  01/04/2010  1118.3   \n",
       "1  01/05/2010  80.59      01/05/2010        81.77  01/05/2010  1118.7   \n",
       "2  01/06/2010  81.89      01/06/2010        83.18  01/06/2010  1136.5   \n",
       "3  01/07/2010  81.51      01/07/2010        82.66  01/07/2010  1133.7   \n",
       "4  01/08/2010  81.37      01/08/2010        82.75  01/08/2010  1138.9   \n",
       "\n",
       "  DATEHenryHub  HenryHub   DATEWheat   Wheat  ... DATELiveCattle  LiveCattle  \\\n",
       "0   01/04/2010     5.884  01/04/2010  0.1775  ...     01/04/2010      85.375   \n",
       "1   01/05/2010     5.637  01/05/2010  0.1600  ...     01/05/2010      86.325   \n",
       "2   01/06/2010     6.009  01/06/2010  0.1350  ...     01/06/2010      85.950   \n",
       "3   01/07/2010     5.806  01/07/2010  0.1525  ...     01/07/2010      85.925   \n",
       "4   01/08/2010     5.749  01/08/2010  0.1550  ...     01/08/2010      85.825   \n",
       "\n",
       "  DATEFeederCattle  FeederCattle  DATECoffee  Coffee  DATECotton  Cotton  \\\n",
       "0       01/04/2010        95.875  01/04/2010  141.85  01/04/2010   76.00   \n",
       "1       01/05/2010        96.550  01/05/2010  141.00  01/05/2010   73.12   \n",
       "2       01/06/2010        96.300  01/06/2010  141.60  01/06/2010   73.55   \n",
       "3       01/07/2010        96.450  01/07/2010  141.90  01/07/2010   72.89   \n",
       "4       01/08/2010        96.350  01/08/2010  145.35  01/08/2010   72.44   \n",
       "\n",
       "    DATESugar  Sugar  \n",
       "0  01/04/2010  27.62  \n",
       "1  01/05/2010  27.64  \n",
       "2  01/06/2010  28.41  \n",
       "3  01/07/2010  28.00  \n",
       "4  01/08/2010  27.53  \n",
       "\n",
       "[5 rows x 24 columns]"
      ]
     },
     "execution_count": 37,
     "metadata": {},
     "output_type": "execute_result"
    }
   ],
   "source": [
    "# Chargement du fichier CSV\n",
    "df = pd.read_csv('DATA.csv', sep=';', encoding='utf-8')\n",
    "\n",
    "# Affichage des premières lignes pour vérifier la structure\n",
    "print(\"Forme du DataFrame:\", df.shape)\n",
    "df.head()"
   ]
  },
  {
   "cell_type": "markdown",
   "id": "93746e55",
   "metadata": {},
   "source": [
    "## 2. Analyse de la structure actuelle"
   ]
  },
  {
   "cell_type": "code",
   "execution_count": 38,
   "id": "75b6e2b0",
   "metadata": {},
   "outputs": [
    {
     "name": "stdout",
     "output_type": "stream",
     "text": [
      "Colonnes du DataFrame:\n"
     ]
    },
    {
     "data": {
      "text/plain": [
       "Index(['DATEBrent', 'Brent', 'DATECrudeOilWTI', 'CrudeOilWTI', 'DATEGold',\n",
       "       'Gold', 'DATEHenryHub', 'HenryHub', 'DATEWheat', 'Wheat',\n",
       "       'DATESoybeans', 'Soybeans', 'DATEHeatingOil', 'HeatingOil',\n",
       "       'DATELiveCattle', 'LiveCattle', 'DATEFeederCattle', 'FeederCattle',\n",
       "       'DATECoffee', 'Coffee', 'DATECotton', 'Cotton', 'DATESugar', 'Sugar'],\n",
       "      dtype='object')"
      ]
     },
     "execution_count": 38,
     "metadata": {},
     "output_type": "execute_result"
    }
   ],
   "source": [
    "# Affichage des colonnes\n",
    "print(\"Colonnes du DataFrame:\")\n",
    "df.columns"
   ]
  },
  {
   "cell_type": "markdown",
   "id": "62748eba",
   "metadata": {},
   "source": [
    "## 3. Restructuration des données\n",
    "\n",
    "La stratégie sera de :\n",
    "1. Créer un nouveau DataFrame propre avec une seule colonne de date\n",
    "2. Ajouter chaque matière première en harmonisant les dates"
   ]
  },
  {
   "cell_type": "code",
   "execution_count": 39,
   "id": "3abf44b6",
   "metadata": {},
   "outputs": [
    {
     "name": "stdout",
     "output_type": "stream",
     "text": [
      "Nombre de valeurs uniques par colonne de date:\n",
      "DATEBrent: 3873\n",
      "DATECrudeOilWTI: 3779\n",
      "DATEGold: 3779\n",
      "DATEHenryHub: 3779\n",
      "DATEWheat: 2693\n",
      "DATESoybeans: 4019\n",
      "DATEHeatingOil: 3779\n",
      "DATELiveCattle: 3779\n",
      "DATEFeederCattle: 3780\n",
      "DATECoffee: 3776\n",
      "DATECotton: 3776\n",
      "DATESugar: 3776\n",
      "\n",
      "Premières dates de chaque colonne:\n",
      "DATEBrent: 01/04/2010\n",
      "DATECrudeOilWTI: 01/04/2010\n",
      "DATEGold: 01/04/2010\n",
      "DATEHenryHub: 01/04/2010\n",
      "DATEWheat: 01/04/2010\n",
      "DATESoybeans: 01/01/2010\n",
      "DATEHeatingOil: 01/04/2010\n",
      "DATELiveCattle: 01/04/2010\n",
      "DATEFeederCattle: 01/04/2010\n",
      "DATECoffee: 01/04/2010\n",
      "DATECotton: 01/04/2010\n",
      "DATESugar: 01/04/2010\n"
     ]
    }
   ],
   "source": [
    "# Première approche : vérifier si les dates sont alignées entre les différentes matières premières\n",
    "# Prenons quelques exemples pour comparer\n",
    "date_cols = [col for col in df.columns if 'DATE' in col]\n",
    "price_cols = [col for col in df.columns if 'DATE' not in col]\n",
    "\n",
    "# Vérification de l'égalité des dates pour quelques colonnes\n",
    "if len(df) > 0:\n",
    "    print(\"Nombre de valeurs uniques par colonne de date:\")\n",
    "    for col in date_cols:\n",
    "        print(f\"{col}: {df[col].nunique()}\")\n",
    "    \n",
    "    # Vérifions si les premières dates correspondent\n",
    "    print(\"\\nPremières dates de chaque colonne:\")\n",
    "    for col in date_cols:\n",
    "        print(f\"{col}: {df[col].iloc[0]}\")"
   ]
  },
  {
   "cell_type": "code",
   "execution_count": 40,
   "id": "c67f86db",
   "metadata": {},
   "outputs": [],
   "source": [
    "# Méthode 1 : Si les dates sont alignées (même nombre, mêmes valeurs)\n",
    "def method_aligned_dates():\n",
    "    # Créer un nouveau DataFrame avec une seule colonne de date (utilisons celle du Brent comme référence)\n",
    "    clean_df = pd.DataFrame()\n",
    "    clean_df['Date'] = pd.to_datetime(df['DATEBrent'])\n",
    "    \n",
    "    # Ajouter les colonnes de prix en conservant leurs noms d'origine\n",
    "    for col in price_cols:\n",
    "        clean_df[col] = df[col]\n",
    "    \n",
    "    # Définir la date comme index\n",
    "    clean_df = clean_df.set_index('Date')\n",
    "    \n",
    "    return clean_df\n",
    "\n",
    "# Méthode 2 : Si les dates NE sont PAS alignées\n",
    "def method_unaligned_dates():\n",
    "    # Créer des DataFrames individuels pour chaque matière première\n",
    "    commodities = {}\n",
    "    \n",
    "    # Liste des paires (date, prix) de commodités\n",
    "    commodity_pairs = [\n",
    "        ('DATEBrent', 'Brent'),\n",
    "        ('DATECrudeOilWTI', 'CrudeOilWTI'),\n",
    "        ('DATEGold', 'Gold'),\n",
    "        ('DATESilver', 'Silver'),\n",
    "        ('DATEHenryHub', 'HenryHub'),\n",
    "        ('DATEWheat', 'Wheat'),\n",
    "        ('DATESoybeans', 'Soybeans'),\n",
    "        ('DATEHeatingOil', 'HeatingOil'),\n",
    "        ('DATELiveCattle', 'LiveCattle'),\n",
    "        ('DATEFeederCattle', 'FeederCattle'),\n",
    "        ('DATECoffee', 'Coffee'),\n",
    "        ('DATECotton', 'Cotton'),\n",
    "        ('DATESugar', 'Sugar')\n",
    "    ]\n",
    "    \n",
    "    # Créer un DataFrame pour chaque matière première\n",
    "    for date_col, price_col in commodity_pairs:\n",
    "        # Assurer que la colonne date existe\n",
    "        if date_col in df.columns and price_col in df.columns:\n",
    "            temp_df = df[[date_col, price_col]].copy()\n",
    "            temp_df.columns = ['Date', price_col]\n",
    "            temp_df['Date'] = pd.to_datetime(temp_df['Date'])\n",
    "            temp_df = temp_df.dropna()\n",
    "            temp_df = temp_df.set_index('Date')\n",
    "            commodities[price_col] = temp_df\n",
    "    \n",
    "    # Fusionner tous les DataFrames sur les dates (outer join pour garder toutes les dates)\n",
    "    clean_df = pd.concat(commodities.values(), axis=1)\n",
    "    \n",
    "    return clean_df"
   ]
  },
  {
   "cell_type": "code",
   "execution_count": 41,
   "id": "fbec9218",
   "metadata": {},
   "outputs": [
    {
     "name": "stdout",
     "output_type": "stream",
     "text": [
      "Les dates ne sont pas alignées. Utilisation de la méthode 2.\n",
      "\n",
      "Structure du DataFrame nettoyé:\n",
      "Dimensions: (4101, 12)\n"
     ]
    },
    {
     "data": {
      "application/vnd.microsoft.datawrangler.viewer.v0+json": {
       "columns": [
        {
         "name": "Date",
         "rawType": "datetime64[ns]",
         "type": "datetime"
        },
        {
         "name": "Brent",
         "rawType": "float64",
         "type": "float"
        },
        {
         "name": "CrudeOilWTI",
         "rawType": "float64",
         "type": "float"
        },
        {
         "name": "Gold",
         "rawType": "float64",
         "type": "float"
        },
        {
         "name": "HenryHub",
         "rawType": "float64",
         "type": "float"
        },
        {
         "name": "Wheat",
         "rawType": "float64",
         "type": "float"
        },
        {
         "name": "Soybeans",
         "rawType": "float64",
         "type": "float"
        },
        {
         "name": "HeatingOil",
         "rawType": "float64",
         "type": "float"
        },
        {
         "name": "LiveCattle",
         "rawType": "float64",
         "type": "float"
        },
        {
         "name": "FeederCattle",
         "rawType": "float64",
         "type": "float"
        },
        {
         "name": "Coffee",
         "rawType": "float64",
         "type": "float"
        },
        {
         "name": "Cotton",
         "rawType": "float64",
         "type": "float"
        },
        {
         "name": "Sugar",
         "rawType": "float64",
         "type": "float"
        }
       ],
       "conversionMethod": "pd.DataFrame",
       "ref": "3d2745ed-eef3-4057-9cd9-1a36a5e963f0",
       "rows": [
        [
         "2010-01-01 00:00:00",
         null,
         null,
         null,
         null,
         null,
         "260.8",
         null,
         null,
         null,
         null,
         null,
         null
        ],
        [
         "2010-01-02 00:00:00",
         null,
         null,
         null,
         null,
         null,
         "261.1",
         null,
         null,
         null,
         null,
         null,
         null
        ],
        [
         "2010-01-04 00:00:00",
         "80.12",
         "81.51",
         "1118.3",
         "5.884",
         "0.1775",
         "270.6",
         "219.05",
         "85.375",
         "95.875",
         "141.85",
         "76.0",
         "27.62"
        ],
        [
         "2010-01-05 00:00:00",
         "80.59",
         "81.77",
         "1118.7",
         "5.637",
         "0.16",
         "263.6",
         "219.41",
         "86.325",
         "96.55",
         "141.0",
         "73.12",
         "27.64"
        ],
        [
         "2010-01-06 00:00:00",
         "81.89",
         "83.18",
         "1136.5",
         "6.009",
         "0.135",
         "274.7",
         "220.32",
         "85.95",
         "96.3",
         "141.6",
         "73.55",
         "28.41"
        ]
       ],
       "shape": {
        "columns": 12,
        "rows": 5
       }
      },
      "text/html": [
       "<div>\n",
       "<style scoped>\n",
       "    .dataframe tbody tr th:only-of-type {\n",
       "        vertical-align: middle;\n",
       "    }\n",
       "\n",
       "    .dataframe tbody tr th {\n",
       "        vertical-align: top;\n",
       "    }\n",
       "\n",
       "    .dataframe thead th {\n",
       "        text-align: right;\n",
       "    }\n",
       "</style>\n",
       "<table border=\"1\" class=\"dataframe\">\n",
       "  <thead>\n",
       "    <tr style=\"text-align: right;\">\n",
       "      <th></th>\n",
       "      <th>Brent</th>\n",
       "      <th>CrudeOilWTI</th>\n",
       "      <th>Gold</th>\n",
       "      <th>HenryHub</th>\n",
       "      <th>Wheat</th>\n",
       "      <th>Soybeans</th>\n",
       "      <th>HeatingOil</th>\n",
       "      <th>LiveCattle</th>\n",
       "      <th>FeederCattle</th>\n",
       "      <th>Coffee</th>\n",
       "      <th>Cotton</th>\n",
       "      <th>Sugar</th>\n",
       "    </tr>\n",
       "    <tr>\n",
       "      <th>Date</th>\n",
       "      <th></th>\n",
       "      <th></th>\n",
       "      <th></th>\n",
       "      <th></th>\n",
       "      <th></th>\n",
       "      <th></th>\n",
       "      <th></th>\n",
       "      <th></th>\n",
       "      <th></th>\n",
       "      <th></th>\n",
       "      <th></th>\n",
       "      <th></th>\n",
       "    </tr>\n",
       "  </thead>\n",
       "  <tbody>\n",
       "    <tr>\n",
       "      <th>2010-01-01</th>\n",
       "      <td>NaN</td>\n",
       "      <td>NaN</td>\n",
       "      <td>NaN</td>\n",
       "      <td>NaN</td>\n",
       "      <td>NaN</td>\n",
       "      <td>260.8</td>\n",
       "      <td>NaN</td>\n",
       "      <td>NaN</td>\n",
       "      <td>NaN</td>\n",
       "      <td>NaN</td>\n",
       "      <td>NaN</td>\n",
       "      <td>NaN</td>\n",
       "    </tr>\n",
       "    <tr>\n",
       "      <th>2010-01-02</th>\n",
       "      <td>NaN</td>\n",
       "      <td>NaN</td>\n",
       "      <td>NaN</td>\n",
       "      <td>NaN</td>\n",
       "      <td>NaN</td>\n",
       "      <td>261.1</td>\n",
       "      <td>NaN</td>\n",
       "      <td>NaN</td>\n",
       "      <td>NaN</td>\n",
       "      <td>NaN</td>\n",
       "      <td>NaN</td>\n",
       "      <td>NaN</td>\n",
       "    </tr>\n",
       "    <tr>\n",
       "      <th>2010-01-04</th>\n",
       "      <td>80.12</td>\n",
       "      <td>81.51</td>\n",
       "      <td>1118.3</td>\n",
       "      <td>5.884</td>\n",
       "      <td>0.1775</td>\n",
       "      <td>270.6</td>\n",
       "      <td>219.05</td>\n",
       "      <td>85.375</td>\n",
       "      <td>95.875</td>\n",
       "      <td>141.85</td>\n",
       "      <td>76.00</td>\n",
       "      <td>27.62</td>\n",
       "    </tr>\n",
       "    <tr>\n",
       "      <th>2010-01-05</th>\n",
       "      <td>80.59</td>\n",
       "      <td>81.77</td>\n",
       "      <td>1118.7</td>\n",
       "      <td>5.637</td>\n",
       "      <td>0.1600</td>\n",
       "      <td>263.6</td>\n",
       "      <td>219.41</td>\n",
       "      <td>86.325</td>\n",
       "      <td>96.550</td>\n",
       "      <td>141.00</td>\n",
       "      <td>73.12</td>\n",
       "      <td>27.64</td>\n",
       "    </tr>\n",
       "    <tr>\n",
       "      <th>2010-01-06</th>\n",
       "      <td>81.89</td>\n",
       "      <td>83.18</td>\n",
       "      <td>1136.5</td>\n",
       "      <td>6.009</td>\n",
       "      <td>0.1350</td>\n",
       "      <td>274.7</td>\n",
       "      <td>220.32</td>\n",
       "      <td>85.950</td>\n",
       "      <td>96.300</td>\n",
       "      <td>141.60</td>\n",
       "      <td>73.55</td>\n",
       "      <td>28.41</td>\n",
       "    </tr>\n",
       "  </tbody>\n",
       "</table>\n",
       "</div>"
      ],
      "text/plain": [
       "            Brent  CrudeOilWTI    Gold  HenryHub   Wheat  Soybeans  \\\n",
       "Date                                                                 \n",
       "2010-01-01    NaN          NaN     NaN       NaN     NaN     260.8   \n",
       "2010-01-02    NaN          NaN     NaN       NaN     NaN     261.1   \n",
       "2010-01-04  80.12        81.51  1118.3     5.884  0.1775     270.6   \n",
       "2010-01-05  80.59        81.77  1118.7     5.637  0.1600     263.6   \n",
       "2010-01-06  81.89        83.18  1136.5     6.009  0.1350     274.7   \n",
       "\n",
       "            HeatingOil  LiveCattle  FeederCattle  Coffee  Cotton  Sugar  \n",
       "Date                                                                     \n",
       "2010-01-01         NaN         NaN           NaN     NaN     NaN    NaN  \n",
       "2010-01-02         NaN         NaN           NaN     NaN     NaN    NaN  \n",
       "2010-01-04      219.05      85.375        95.875  141.85   76.00  27.62  \n",
       "2010-01-05      219.41      86.325        96.550  141.00   73.12  27.64  \n",
       "2010-01-06      220.32      85.950        96.300  141.60   73.55  28.41  "
      ]
     },
     "execution_count": 41,
     "metadata": {},
     "output_type": "execute_result"
    }
   ],
   "source": [
    "# Choix de la méthode selon l'alignement des dates\n",
    "# Pour déterminer si les dates sont alignées, vérifions si toutes les colonnes DATE ont le même nombre de valeurs uniques\n",
    "if len(date_cols) > 0 and all(df[date_cols[0]].nunique() == df[col].nunique() for col in date_cols):\n",
    "    print(\"Les dates semblent être alignées. Utilisation de la méthode 1.\")\n",
    "    clean_df = method_aligned_dates()\n",
    "else:\n",
    "    print(\"Les dates ne sont pas alignées. Utilisation de la méthode 2.\")\n",
    "    clean_df = method_unaligned_dates()\n",
    "\n",
    "print(\"\\nStructure du DataFrame nettoyé:\")\n",
    "print(f\"Dimensions: {clean_df.shape}\")\n",
    "clean_df.head()"
   ]
  },
  {
   "cell_type": "markdown",
   "id": "b3f3668b",
   "metadata": {},
   "source": [
    "## 4. Vérification et traitement des valeurs manquantes"
   ]
  },
  {
   "cell_type": "code",
   "execution_count": 42,
   "id": "919070d4",
   "metadata": {},
   "outputs": [
    {
     "name": "stdout",
     "output_type": "stream",
     "text": [
      "Nombre de valeurs manquantes par colonne:\n",
      "Brent            228\n",
      "CrudeOilWTI      322\n",
      "Gold             322\n",
      "HenryHub         322\n",
      "Wheat           1408\n",
      "Soybeans          82\n",
      "HeatingOil       322\n",
      "LiveCattle       322\n",
      "FeederCattle     321\n",
      "Coffee           325\n",
      "Cotton           325\n",
      "Sugar            325\n",
      "dtype: int64\n",
      "\n",
      "Pourcentage de valeurs manquantes par colonne:\n",
      "Brent            5.559620\n",
      "CrudeOilWTI      7.851743\n",
      "Gold             7.851743\n",
      "HenryHub         7.851743\n",
      "Wheat           34.333089\n",
      "Soybeans         1.999512\n",
      "HeatingOil       7.851743\n",
      "LiveCattle       7.851743\n",
      "FeederCattle     7.827359\n",
      "Coffee           7.924896\n",
      "Cotton           7.924896\n",
      "Sugar            7.924896\n",
      "dtype: float64\n"
     ]
    }
   ],
   "source": [
    "# Afficher le nombre de valeurs manquantes par colonne\n",
    "print(\"Nombre de valeurs manquantes par colonne:\")\n",
    "print(clean_df.isna().sum())\n",
    "\n",
    "# Pourcentage de valeurs manquantes\n",
    "print(\"\\nPourcentage de valeurs manquantes par colonne:\")\n",
    "print(clean_df.isna().mean() * 100)"
   ]
  },
  {
   "cell_type": "markdown",
   "id": "95ba6e77",
   "metadata": {},
   "source": [
    "## 5. Options de traitement des valeurs manquantes"
   ]
  },
  {
   "cell_type": "code",
   "execution_count": 43,
   "id": "d629199d",
   "metadata": {},
   "outputs": [
    {
     "name": "stdout",
     "output_type": "stream",
     "text": [
      "Dimensions après suppression des valeurs manquantes: (2649, 12)\n",
      "Valeurs manquantes restantes: 22\n"
     ]
    },
    {
     "name": "stderr",
     "output_type": "stream",
     "text": [
      "/var/folders/qk/340w2xz14r9768bjtzw6m6sc0000gn/T/ipykernel_19714/2339907875.py:6: FutureWarning: DataFrame.fillna with 'method' is deprecated and will raise in a future version. Use obj.ffill() or obj.bfill() instead.\n",
      "  clean_df_ffill = clean_df.fillna(method='ffill')\n",
      "/var/folders/qk/340w2xz14r9768bjtzw6m6sc0000gn/T/ipykernel_19714/2339907875.py:9: FutureWarning: DataFrame.fillna with 'method' is deprecated and will raise in a future version. Use obj.ffill() or obj.bfill() instead.\n",
      "  clean_df_bfill = clean_df.fillna(method='bfill')\n"
     ]
    },
    {
     "data": {
      "application/vnd.microsoft.datawrangler.viewer.v0+json": {
       "columns": [
        {
         "name": "Date",
         "rawType": "datetime64[ns]",
         "type": "datetime"
        },
        {
         "name": "Brent",
         "rawType": "float64",
         "type": "float"
        },
        {
         "name": "CrudeOilWTI",
         "rawType": "float64",
         "type": "float"
        },
        {
         "name": "Gold",
         "rawType": "float64",
         "type": "float"
        },
        {
         "name": "HenryHub",
         "rawType": "float64",
         "type": "float"
        },
        {
         "name": "Wheat",
         "rawType": "float64",
         "type": "float"
        },
        {
         "name": "Soybeans",
         "rawType": "float64",
         "type": "float"
        },
        {
         "name": "HeatingOil",
         "rawType": "float64",
         "type": "float"
        },
        {
         "name": "LiveCattle",
         "rawType": "float64",
         "type": "float"
        },
        {
         "name": "FeederCattle",
         "rawType": "float64",
         "type": "float"
        },
        {
         "name": "Coffee",
         "rawType": "float64",
         "type": "float"
        },
        {
         "name": "Cotton",
         "rawType": "float64",
         "type": "float"
        },
        {
         "name": "Sugar",
         "rawType": "float64",
         "type": "float"
        }
       ],
       "conversionMethod": "pd.DataFrame",
       "ref": "e0db9295-0d4e-431d-8e6f-c9e36150adbe",
       "rows": [
        [
         "2010-01-01 00:00:00",
         null,
         null,
         null,
         null,
         null,
         "260.8",
         null,
         null,
         null,
         null,
         null,
         null
        ],
        [
         "2010-01-02 00:00:00",
         null,
         null,
         null,
         null,
         null,
         "261.1",
         null,
         null,
         null,
         null,
         null,
         null
        ],
        [
         "2010-01-04 00:00:00",
         "80.12",
         "81.51",
         "1118.3",
         "5.884",
         "0.1775",
         "270.6",
         "219.05",
         "85.375",
         "95.875",
         "141.85",
         "76.0",
         "27.62"
        ],
        [
         "2010-01-05 00:00:00",
         "80.59",
         "81.77",
         "1118.7",
         "5.637",
         "0.16",
         "263.6",
         "219.41",
         "86.325",
         "96.55",
         "141.0",
         "73.12",
         "27.64"
        ],
        [
         "2010-01-06 00:00:00",
         "81.89",
         "83.18",
         "1136.5",
         "6.009",
         "0.135",
         "274.7",
         "220.32",
         "85.95",
         "96.3",
         "141.6",
         "73.55",
         "28.41"
        ]
       ],
       "shape": {
        "columns": 12,
        "rows": 5
       }
      },
      "text/html": [
       "<div>\n",
       "<style scoped>\n",
       "    .dataframe tbody tr th:only-of-type {\n",
       "        vertical-align: middle;\n",
       "    }\n",
       "\n",
       "    .dataframe tbody tr th {\n",
       "        vertical-align: top;\n",
       "    }\n",
       "\n",
       "    .dataframe thead th {\n",
       "        text-align: right;\n",
       "    }\n",
       "</style>\n",
       "<table border=\"1\" class=\"dataframe\">\n",
       "  <thead>\n",
       "    <tr style=\"text-align: right;\">\n",
       "      <th></th>\n",
       "      <th>Brent</th>\n",
       "      <th>CrudeOilWTI</th>\n",
       "      <th>Gold</th>\n",
       "      <th>HenryHub</th>\n",
       "      <th>Wheat</th>\n",
       "      <th>Soybeans</th>\n",
       "      <th>HeatingOil</th>\n",
       "      <th>LiveCattle</th>\n",
       "      <th>FeederCattle</th>\n",
       "      <th>Coffee</th>\n",
       "      <th>Cotton</th>\n",
       "      <th>Sugar</th>\n",
       "    </tr>\n",
       "    <tr>\n",
       "      <th>Date</th>\n",
       "      <th></th>\n",
       "      <th></th>\n",
       "      <th></th>\n",
       "      <th></th>\n",
       "      <th></th>\n",
       "      <th></th>\n",
       "      <th></th>\n",
       "      <th></th>\n",
       "      <th></th>\n",
       "      <th></th>\n",
       "      <th></th>\n",
       "      <th></th>\n",
       "    </tr>\n",
       "  </thead>\n",
       "  <tbody>\n",
       "    <tr>\n",
       "      <th>2010-01-01</th>\n",
       "      <td>NaN</td>\n",
       "      <td>NaN</td>\n",
       "      <td>NaN</td>\n",
       "      <td>NaN</td>\n",
       "      <td>NaN</td>\n",
       "      <td>260.8</td>\n",
       "      <td>NaN</td>\n",
       "      <td>NaN</td>\n",
       "      <td>NaN</td>\n",
       "      <td>NaN</td>\n",
       "      <td>NaN</td>\n",
       "      <td>NaN</td>\n",
       "    </tr>\n",
       "    <tr>\n",
       "      <th>2010-01-02</th>\n",
       "      <td>NaN</td>\n",
       "      <td>NaN</td>\n",
       "      <td>NaN</td>\n",
       "      <td>NaN</td>\n",
       "      <td>NaN</td>\n",
       "      <td>261.1</td>\n",
       "      <td>NaN</td>\n",
       "      <td>NaN</td>\n",
       "      <td>NaN</td>\n",
       "      <td>NaN</td>\n",
       "      <td>NaN</td>\n",
       "      <td>NaN</td>\n",
       "    </tr>\n",
       "    <tr>\n",
       "      <th>2010-01-04</th>\n",
       "      <td>80.12</td>\n",
       "      <td>81.51</td>\n",
       "      <td>1118.3</td>\n",
       "      <td>5.884</td>\n",
       "      <td>0.1775</td>\n",
       "      <td>270.6</td>\n",
       "      <td>219.05</td>\n",
       "      <td>85.375</td>\n",
       "      <td>95.875</td>\n",
       "      <td>141.85</td>\n",
       "      <td>76.00</td>\n",
       "      <td>27.62</td>\n",
       "    </tr>\n",
       "    <tr>\n",
       "      <th>2010-01-05</th>\n",
       "      <td>80.59</td>\n",
       "      <td>81.77</td>\n",
       "      <td>1118.7</td>\n",
       "      <td>5.637</td>\n",
       "      <td>0.1600</td>\n",
       "      <td>263.6</td>\n",
       "      <td>219.41</td>\n",
       "      <td>86.325</td>\n",
       "      <td>96.550</td>\n",
       "      <td>141.00</td>\n",
       "      <td>73.12</td>\n",
       "      <td>27.64</td>\n",
       "    </tr>\n",
       "    <tr>\n",
       "      <th>2010-01-06</th>\n",
       "      <td>81.89</td>\n",
       "      <td>83.18</td>\n",
       "      <td>1136.5</td>\n",
       "      <td>6.009</td>\n",
       "      <td>0.1350</td>\n",
       "      <td>274.7</td>\n",
       "      <td>220.32</td>\n",
       "      <td>85.950</td>\n",
       "      <td>96.300</td>\n",
       "      <td>141.60</td>\n",
       "      <td>73.55</td>\n",
       "      <td>28.41</td>\n",
       "    </tr>\n",
       "  </tbody>\n",
       "</table>\n",
       "</div>"
      ],
      "text/plain": [
       "            Brent  CrudeOilWTI    Gold  HenryHub   Wheat  Soybeans  \\\n",
       "Date                                                                 \n",
       "2010-01-01    NaN          NaN     NaN       NaN     NaN     260.8   \n",
       "2010-01-02    NaN          NaN     NaN       NaN     NaN     261.1   \n",
       "2010-01-04  80.12        81.51  1118.3     5.884  0.1775     270.6   \n",
       "2010-01-05  80.59        81.77  1118.7     5.637  0.1600     263.6   \n",
       "2010-01-06  81.89        83.18  1136.5     6.009  0.1350     274.7   \n",
       "\n",
       "            HeatingOil  LiveCattle  FeederCattle  Coffee  Cotton  Sugar  \n",
       "Date                                                                     \n",
       "2010-01-01         NaN         NaN           NaN     NaN     NaN    NaN  \n",
       "2010-01-02         NaN         NaN           NaN     NaN     NaN    NaN  \n",
       "2010-01-04      219.05      85.375        95.875  141.85   76.00  27.62  \n",
       "2010-01-05      219.41      86.325        96.550  141.00   73.12  27.64  \n",
       "2010-01-06      220.32      85.950        96.300  141.60   73.55  28.41  "
      ]
     },
     "execution_count": 43,
     "metadata": {},
     "output_type": "execute_result"
    }
   ],
   "source": [
    "# Option 1: Supprimer les lignes avec des valeurs manquantes (peut être trop restrictif)\n",
    "clean_df_dropna = clean_df.dropna()\n",
    "print(f\"Dimensions après suppression des valeurs manquantes: {clean_df_dropna.shape}\")\n",
    "\n",
    "# Option 2: Remplir les valeurs manquantes avec la méthode forward fill\n",
    "clean_df_ffill = clean_df.fillna(method='ffill')\n",
    "\n",
    "# Option 3: Remplir les valeurs manquantes avec la méthode backward fill\n",
    "clean_df_bfill = clean_df.fillna(method='bfill')\n",
    "\n",
    "# Option 4: Interpolation linéaire\n",
    "clean_df_interp = clean_df.interpolate(method='linear')\n",
    "\n",
    "# Choisissons l'option d'interpolation linéaire pour cet exemple\n",
    "final_df = clean_df_interp.copy()\n",
    "\n",
    "# Vérification des valeurs manquantes restantes\n",
    "print(f\"Valeurs manquantes restantes: {final_df.isna().sum().sum()}\")\n",
    "final_df.head()"
   ]
  },
  {
   "cell_type": "markdown",
   "id": "ac924e0e",
   "metadata": {},
   "source": [
    "## 7. Enregistrement du DataFrame propre"
   ]
  },
  {
   "cell_type": "code",
   "execution_count": 44,
   "id": "7033d836",
   "metadata": {},
   "outputs": [
    {
     "name": "stdout",
     "output_type": "stream",
     "text": [
      "DataFrame propre enregistré dans 'clean_commodities.csv'\n"
     ]
    }
   ],
   "source": [
    "# Enregistrement du DataFrame nettoyé\n",
    "final_df.to_csv('clean_commodities.csv')\n",
    "print(\"DataFrame propre enregistré dans 'clean_commodities.csv'\")"
   ]
  },
  {
   "cell_type": "markdown",
   "id": "19666a93",
   "metadata": {},
   "source": [
    "## 8. Résumé de la démarche\n",
    "\n",
    "1. Nous avons chargé le fichier de données contenant les colonnes de dates et de prix pour différentes matières premières\n",
    "2. Nous avons analysé la structure des données pour déterminer si les dates étaient alignées\n",
    "3. Nous avons restructuré les données pour avoir un DataFrame propre avec une seule colonne de dates\n",
    "4. Nous avons traité les valeurs manquantes par interpolation linéaire\n",
    "5. Nous avons visualisé l'évolution des prix de quelques matières premières\n",
    "6. Nous avons enregistré le DataFrame propre dans un nouveau fichier CSV\n",
    "\n",
    "Cette approche permet d'obtenir un DataFrame propre et cohérent, prêt pour des analyses ultérieures."
   ]
  }
 ],
 "metadata": {
  "kernelspec": {
   "display_name": "base",
   "language": "python",
   "name": "python3"
  },
  "language_info": {
   "codemirror_mode": {
    "name": "ipython",
    "version": 3
   },
   "file_extension": ".py",
   "mimetype": "text/x-python",
   "name": "python",
   "nbconvert_exporter": "python",
   "pygments_lexer": "ipython3",
   "version": "3.12.4"
  }
 },
 "nbformat": 4,
 "nbformat_minor": 5
}
