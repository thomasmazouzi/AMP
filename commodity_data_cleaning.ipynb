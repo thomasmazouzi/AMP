{
 "cells": [
  {
   "cell_type": "markdown",
   "id": "c3929bd9",
   "metadata": {},
   "source": [
    "# Nettoyage et restructuration des données de matières premières\n",
    "\n",
    "Ce notebook montre comment nettoyer et restructurer un DataFrame contenant des données de matières premières avec plusieurs colonnes de dates et de prix."
   ]
  },
  {
   "cell_type": "markdown",
   "id": "76edeeb3",
   "metadata": {},
   "source": [
    "## Import Required Libraries\n",
    "Import pandas and other necessary libraries for data manipulation."
   ]
  },
  {
   "cell_type": "code",
   "execution_count": null,
   "id": "c70b5f86",
   "metadata": {},
   "outputs": [],
   "source": [
    "import pandas as pd\n",
    "import numpy as np\n",
    "import matplotlib.pyplot as plt\n",
    "%matplotlib inline"
   ]
  },
  {
   "cell_type": "markdown",
   "id": "98be7901",
   "metadata": {},
   "source": [
    "## 1. Chargement des données"
   ]
  },
  {
   "cell_type": "code",
   "execution_count": null,
   "id": "da4a60ca",
   "metadata": {},
   "outputs": [],
   "source": [
    "# Chargement du fichier CSV\n",
    "df = pd.read_csv('DATA.csv')\n",
    "\n",
    "# Affichage des premières lignes pour vérifier la structure\n",
    "print(\"Forme du DataFrame:\", df.shape)\n",
    "df.head()"
   ]
  },
  {
   "cell_type": "markdown",
   "id": "93746e55",
   "metadata": {},
   "source": [
    "## 2. Analyse de la structure actuelle"
   ]
  },
  {
   "cell_type": "code",
   "execution_count": null,
   "id": "75b6e2b0",
   "metadata": {},
   "outputs": [],
   "source": [
    "# Affichage des colonnes\n",
    "print(\"Colonnes du DataFrame:\")\n",
    "df.columns"
   ]
  },
  {
   "cell_type": "markdown",
   "id": "62748eba",
   "metadata": {},
   "source": [
    "## 3. Restructuration des données\n",
    "\n",
    "La stratégie sera de :\n",
    "1. Créer un nouveau DataFrame propre avec une seule colonne de date\n",
    "2. Ajouter chaque matière première en harmonisant les dates"
   ]
  },
  {
   "cell_type": "code",
   "execution_count": null,
   "id": "3abf44b6",
   "metadata": {},
   "outputs": [],
   "source": [
    "# Première approche : vérifier si les dates sont alignées entre les différentes matières premières\n",
    "# Prenons quelques exemples pour comparer\n",
    "date_cols = [col for col in df.columns if 'DATE' in col]\n",
    "price_cols = [col for col in df.columns if 'DATE' not in col]\n",
    "\n",
    "# Vérification de l'égalité des dates pour quelques colonnes\n",
    "if len(df) > 0:\n",
    "    print(\"Nombre de valeurs uniques par colonne de date:\")\n",
    "    for col in date_cols:\n",
    "        print(f\"{col}: {df[col].nunique()}\")\n",
    "    \n",
    "    # Vérifions si les premières dates correspondent\n",
    "    print(\"\\nPremières dates de chaque colonne:\")\n",
    "    for col in date_cols:\n",
    "        print(f\"{col}: {df[col].iloc[0]}\")"
   ]
  },
  {
   "cell_type": "code",
   "execution_count": null,
   "id": "c67f86db",
   "metadata": {},
   "outputs": [],
   "source": [
    "# Méthode 1 : Si les dates sont alignées (même nombre, mêmes valeurs)\n",
    "def method_aligned_dates():\n",
    "    # Créer un nouveau DataFrame avec une seule colonne de date (utilisons celle du Brent comme référence)\n",
    "    clean_df = pd.DataFrame()\n",
    "    clean_df['Date'] = pd.to_datetime(df['DATEBrent'])\n",
    "    \n",
    "    # Ajouter les colonnes de prix en conservant leurs noms d'origine\n",
    "    for col in price_cols:\n",
    "        clean_df[col] = df[col]\n",
    "    \n",
    "    # Définir la date comme index\n",
    "    clean_df = clean_df.set_index('Date')\n",
    "    \n",
    "    return clean_df\n",
    "\n",
    "# Méthode 2 : Si les dates NE sont PAS alignées\n",
    "def method_unaligned_dates():\n",
    "    # Créer des DataFrames individuels pour chaque matière première\n",
    "    commodities = {}\n",
    "    \n",
    "    # Liste des paires (date, prix) de commodités\n",
    "    commodity_pairs = [\n",
    "        ('DATEBrent', 'Brent'),\n",
    "        ('DATECrudeOilWTI', 'CrudeOilWTI'),\n",
    "        ('DATEGold', 'Gold'),\n",
    "        ('DATESilver', 'Silver'),\n",
    "        ('DATEHenryHub', 'HenryHub'),\n",
    "        ('DATEWheat', 'Wheat'),\n",
    "        ('DATESoybeans', 'Soybeans'),\n",
    "        ('DATEHeatingOil', 'HeatingOil'),\n",
    "        ('DATELiveCattle', 'LiveCattle'),\n",
    "        ('DATEFeederCattle', 'FeederCattle'),\n",
    "        ('DATECoffee', 'Coffee'),\n",
    "        ('DATECotton', 'Cotton'),\n",
    "        ('DATESugar', 'Sugar')\n",
    "    ]\n",
    "    \n",
    "    # Créer un DataFrame pour chaque matière première\n",
    "    for date_col, price_col in commodity_pairs:\n",
    "        # Assurer que la colonne date existe\n",
    "        if date_col in df.columns and price_col in df.columns:\n",
    "            temp_df = df[[date_col, price_col]].copy()\n",
    "            temp_df.columns = ['Date', price_col]\n",
    "            temp_df['Date'] = pd.to_datetime(temp_df['Date'])\n",
    "            temp_df = temp_df.dropna()\n",
    "            temp_df = temp_df.set_index('Date')\n",
    "            commodities[price_col] = temp_df\n",
    "    \n",
    "    # Fusionner tous les DataFrames sur les dates (outer join pour garder toutes les dates)\n",
    "    clean_df = pd.concat(commodities.values(), axis=1)\n",
    "    \n",
    "    return clean_df"
   ]
  },
  {
   "cell_type": "code",
   "execution_count": null,
   "id": "fbec9218",
   "metadata": {},
   "outputs": [],
   "source": [
    "# Choix de la méthode selon l'alignement des dates\n",
    "# Pour déterminer si les dates sont alignées, vérifions si toutes les colonnes DATE ont le même nombre de valeurs uniques\n",
    "if len(date_cols) > 0 and all(df[date_cols[0]].nunique() == df[col].nunique() for col in date_cols):\n",
    "    print(\"Les dates semblent être alignées. Utilisation de la méthode 1.\")\n",
    "    clean_df = method_aligned_dates()\n",
    "else:\n",
    "    print(\"Les dates ne sont pas alignées. Utilisation de la méthode 2.\")\n",
    "    clean_df = method_unaligned_dates()\n",
    "\n",
    "print(\"\\nStructure du DataFrame nettoyé:\")\n",
    "print(f\"Dimensions: {clean_df.shape}\")\n",
    "clean_df.head()"
   ]
  },
  {
   "cell_type": "markdown",
   "id": "b3f3668b",
   "metadata": {},
   "source": [
    "## 4. Vérification et traitement des valeurs manquantes"
   ]
  },
  {
   "cell_type": "code",
   "execution_count": null,
   "id": "919070d4",
   "metadata": {},
   "outputs": [],
   "source": [
    "# Afficher le nombre de valeurs manquantes par colonne\n",
    "print(\"Nombre de valeurs manquantes par colonne:\")\n",
    "print(clean_df.isna().sum())\n",
    "\n",
    "# Pourcentage de valeurs manquantes\n",
    "print(\"\\nPourcentage de valeurs manquantes par colonne:\")\n",
    "print(clean_df.isna().mean() * 100)"
   ]
  },
  {
   "cell_type": "markdown",
   "id": "95ba6e77",
   "metadata": {},
   "source": [
    "## 5. Options de traitement des valeurs manquantes"
   ]
  },
  {
   "cell_type": "code",
   "execution_count": null,
   "id": "d629199d",
   "metadata": {},
   "outputs": [],
   "source": [
    "# Option 1: Supprimer les lignes avec des valeurs manquantes (peut être trop restrictif)\n",
    "clean_df_dropna = clean_df.dropna()\n",
    "print(f\"Dimensions après suppression des valeurs manquantes: {clean_df_dropna.shape}\")\n",
    "\n",
    "# Option 2: Remplir les valeurs manquantes avec la méthode forward fill\n",
    "clean_df_ffill = clean_df.fillna(method='ffill')\n",
    "\n",
    "# Option 3: Remplir les valeurs manquantes avec la méthode backward fill\n",
    "clean_df_bfill = clean_df.fillna(method='bfill')\n",
    "\n",
    "# Option 4: Interpolation linéaire\n",
    "clean_df_interp = clean_df.interpolate(method='linear')\n",
    "\n",
    "# Choisissons l'option d'interpolation linéaire pour cet exemple\n",
    "final_df = clean_df_interp.copy()\n",
    "\n",
    "# Vérification des valeurs manquantes restantes\n",
    "print(f\"Valeurs manquantes restantes: {final_df.isna().sum().sum()}\")\n",
    "final_df.head()"
   ]
  },
  {
   "cell_type": "markdown",
   "id": "1ac546be",
   "metadata": {},
   "source": [
    "## 6. Visualisation des données"
   ]
  },
  {
   "cell_type": "code",
   "execution_count": null,
   "id": "a5ed2fe2",
   "metadata": {},
   "outputs": [],
   "source": [
    "# Visualiser quelques séries temporelles\n",
    "plt.figure(figsize=(14, 8))\n",
    "\n",
    "# Sélectionner quelques matières premières importantes\n",
    "commodities_to_plot = ['Brent', 'Gold', 'Silver', 'Wheat']\n",
    "\n",
    "for commodity in commodities_to_plot:\n",
    "    if commodity in final_df.columns:\n",
    "        # Normaliser pour permettre une comparaison sur le même graphique\n",
    "        normalized = final_df[commodity] / final_df[commodity].iloc[0] * 100\n",
    "        plt.plot(normalized, label=commodity)\n",
    "\n",
    "plt.title('Évolution des prix des matières premières (normalisée, base 100)')\n",
    "plt.legend()\n",
    "plt.grid(True)\n",
    "plt.show()"
   ]
  },
  {
   "cell_type": "markdown",
   "id": "ac924e0e",
   "metadata": {},
   "source": [
    "## 7. Enregistrement du DataFrame propre"
   ]
  },
  {
   "cell_type": "code",
   "execution_count": null,
   "id": "7033d836",
   "metadata": {},
   "outputs": [],
   "source": [
    "# Enregistrement du DataFrame nettoyé\n",
    "final_df.to_csv('clean_commodities.csv')\n",
    "print(\"DataFrame propre enregistré dans 'clean_commodities.csv'\")"
   ]
  },
  {
   "cell_type": "markdown",
   "id": "19666a93",
   "metadata": {},
   "source": [
    "## 8. Résumé de la démarche\n",
    "\n",
    "1. Nous avons chargé le fichier de données contenant les colonnes de dates et de prix pour différentes matières premières\n",
    "2. Nous avons analysé la structure des données pour déterminer si les dates étaient alignées\n",
    "3. Nous avons restructuré les données pour avoir un DataFrame propre avec une seule colonne de dates\n",
    "4. Nous avons traité les valeurs manquantes par interpolation linéaire\n",
    "5. Nous avons visualisé l'évolution des prix de quelques matières premières\n",
    "6. Nous avons enregistré le DataFrame propre dans un nouveau fichier CSV\n",
    "\n",
    "Cette approche permet d'obtenir un DataFrame propre et cohérent, prêt pour des analyses ultérieures."
   ]
  }
 ],
 "metadata": {
  "language_info": {
   "name": "python"
  }
 },
 "nbformat": 4,
 "nbformat_minor": 5
}
